{
  "nbformat": 4,
  "nbformat_minor": 0,
  "metadata": {
    "colab": {
      "name": "Untitled1.ipynb",
      "provenance": []
    },
    "kernelspec": {
      "name": "python3",
      "display_name": "Python 3"
    }
  },
  "cells": [
    {
      "cell_type": "code",
      "metadata": {
        "id": "ufgMKuoIm0PK",
        "colab_type": "code",
        "colab": {}
      },
      "source": [
        "import pd\n",
        "import np\n",
        "print(\"Hello Capstone Project Course!\") "
      ],
      "execution_count": null,
      "outputs": []
    }
  ]
}